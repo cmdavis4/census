{
 "cells": [
  {
   "cell_type": "code",
   "execution_count": 34,
   "metadata": {
    "collapsed": false
   },
   "outputs": [],
   "source": [
    "def read_asec_dictionary(filename):\n",
    "    import re\n",
    "    re.MULTILINE = True\n",
    "\n",
    "    with open(filename) as d:\n",
    "        data = d.read()\n",
    "        \n",
    "        units = re.split('\\n([a-zA-Z]*) RECORD\\n', data)[1:]\n",
    "        unit_dict = {'first_digit': {}}\n",
    "        for i in range(0, len(units), 2):\n",
    "\n",
    "            unit_name = units[i].lower()\n",
    "            field_dict = {}\n",
    "            fields = re.split('\\nD ', units[i+1])[1:]\n",
    "            fields = ['\\nD ' + x for x in fields]\n",
    "\n",
    "            for field in fields:\n",
    "                header = re.findall('D .*(?:\\n(?![DUV] ).*)*', field)[0]\n",
    "                header_record = re.split('\\s*', re.split('\\n', header)[0])\n",
    "                header_desc = ' '.join([x.strip() for x in re.split('\\n', header)[1:]])\n",
    "\n",
    "                d = {\n",
    "                    'name': header_record[1],\n",
    "                    'description': header_desc,\n",
    "                    'size': header_record[2],\n",
    "                    'begin': header_record[3],\n",
    "                }\n",
    "                if len(header_record) == 5:\n",
    "                    d['range'] = header_record[4]\n",
    "                universe = re.search('U (.*)\\n', field)\n",
    "                if universe:\n",
    "                    # Drop the 'U ' and '\\n' at the beginning/end, respectively\n",
    "                    d['universe'] = universe.group(0)[2:-1]\n",
    "\n",
    "                values = re.findall('V\\s*[-0-9][-0-9]*\\s*\\..*(?:\\nV\\s*\\..*)*', field)\n",
    "                v = {}\n",
    "                for value in values:\n",
    "                    key = re.match('V\\s*([-0-9]*)', value).groups(0)[0]\n",
    "                    description = ' '.join(re.findall('V[-0-9\\s]*\\.(.*)', value))\n",
    "                    v[key] = description\n",
    "                d['values'] = v\n",
    "\n",
    "\n",
    "                field_dict[d['name']] = d\n",
    "            \n",
    "            # For each of the three levels in the hierarchical data structure of ASEC,\n",
    "            # i.e. household -> family -> person, there is a field with a 'begin' value\n",
    "            # of 1, and 1 possible value; since this is the digit that actually determines which\n",
    "            # of the three unit types the record corresponds to, it's bizarre that it\n",
    "            # is listed in the data dictionary as three separate fields with only one possible\n",
    "            # value each. We move this into the top level dictionary, so that, when reading\n",
    "            # a record, it will be easy to do, e.g., asec_dict[asec_dict['first_digit'][first_digit]]\n",
    "            # to get into the field dictionary corresponding to the right unit level.\n",
    "            identifier_fields = [x for x in field_dict.values() if int(x['begin']) == 1]\n",
    "            if len(identifier_fields) > 1:\n",
    "                raise ValueError('Cannot have more than one identifier field per unit level')\n",
    "            identifier_field = identifier_fields[0]\n",
    "            identifier_values = identifier_field['values'].keys()\n",
    "            if len(identifier_values) > 1:\n",
    "                raise ValueError('Cannot have more than one identifier value per unit level')\n",
    "            identifier_value = identifier_values[0]\n",
    "            unit_dict['first_digit'][identifier_value] = unit_name\n",
    "            \n",
    "            unit_dict[unit_name] = field_dict\n",
    "        \n",
    "    return unit_dict\n",
    "\n",
    "asec_dict = read_asec_dictionary('asec2016_dd.txt')"
   ]
  },
  {
   "cell_type": "code",
   "execution_count": 40,
   "metadata": {
    "collapsed": false
   },
   "outputs": [],
   "source": [
    "for key in ['person', 'family', 'household']:\n",
    "    assert len(np.unique([x['begin'] for x in asec_dict[key].values()])) == len(asec_dict[key])"
   ]
  },
  {
   "cell_type": "markdown",
   "metadata": {},
   "source": [
    "Nice, so we now have three dictionaries, which all represent the differing data structures of household/family/person records. Let's try ingesting the data:"
   ]
  },
  {
   "cell_type": "code",
   "execution_count": null,
   "metadata": {
    "collapsed": true
   },
   "outputs": [],
   "source": []
  }
 ],
 "metadata": {
  "kernelspec": {
   "display_name": "Python [Root]",
   "language": "python",
   "name": "Python [Root]"
  },
  "language_info": {
   "codemirror_mode": {
    "name": "ipython",
    "version": 2
   },
   "file_extension": ".py",
   "mimetype": "text/x-python",
   "name": "python",
   "nbconvert_exporter": "python",
   "pygments_lexer": "ipython2",
   "version": "2.7.12"
  }
 },
 "nbformat": 4,
 "nbformat_minor": 0
}
