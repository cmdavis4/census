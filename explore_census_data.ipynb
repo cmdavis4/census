{
 "cells": [
  {
   "cell_type": "code",
   "execution_count": 1,
   "metadata": {
    "collapsed": false
   },
   "outputs": [],
   "source": [
    "import pandas as pd\n",
    "import numpy as np\n",
    "import datetime as dt\n",
    "import matplotlib.pyplot as plt\n",
    "%matplotlib inline\n",
    "\n",
    "from ingestion import read_asec_data, read_asec_dictionary"
   ]
  },
  {
   "cell_type": "markdown",
   "metadata": {},
   "source": [
    "Number of records:\n",
    "* Household: 94,097\n",
    "* Family: 80,610\n",
    "* Person: 185,487"
   ]
  },
  {
   "cell_type": "code",
   "execution_count": 2,
   "metadata": {
    "collapsed": false
   },
   "outputs": [],
   "source": [
    "# I am not at all sure if it's more appropriate to do this at a personal level or household level;\n",
    "# I am guessing personal, since that is how federal income tax is administered, so we're going with\n",
    "# that for now.\n",
    "\n",
    "# We are also using the taxable income amount for the time being, again I don't know if this is necessarily\n",
    "# the right approach, but it seems plausible as a first pass.\n",
    "\n",
    "# TODO: Read up more on the various income metrics\n",
    "\n",
    "records = read_asec_data('data/asec2016_pubuse_v2.dat', 'data/asec2016_dd.txt', 'person', ['MARSUPWT', 'TAX_INC', 'WSAL_VAL'])\n",
    "person_df = pd.DataFrame(records)\n",
    "person_df.columns = [x.lower() for x in person_df.columns]\n",
    "person_df['marsupwt'] = person_df['marsupwt'].astype(float) / 100\n",
    "person_df['tax_inc'] = person_df['tax_inc'].astype(int)\n",
    "person_df['wsal_val'] = person_df['wsal_val'].astype(int)\n",
    "person_df = person_df.sort_values('tax_inc')"
   ]
  },
  {
   "cell_type": "code",
   "execution_count": 3,
   "metadata": {
    "collapsed": false
   },
   "outputs": [
    {
     "data": {
      "text/html": [
       "<div>\n",
       "<table border=\"1\" class=\"dataframe\">\n",
       "  <thead>\n",
       "    <tr style=\"text-align: right;\">\n",
       "      <th></th>\n",
       "      <th>marsupwt</th>\n",
       "      <th>tax_inc</th>\n",
       "      <th>wsal_val</th>\n",
       "    </tr>\n",
       "  </thead>\n",
       "  <tbody>\n",
       "    <tr>\n",
       "      <th>0</th>\n",
       "      <td>1132.05</td>\n",
       "      <td>0</td>\n",
       "      <td>0</td>\n",
       "    </tr>\n",
       "    <tr>\n",
       "      <th>110808</th>\n",
       "      <td>730.13</td>\n",
       "      <td>0</td>\n",
       "      <td>2000</td>\n",
       "    </tr>\n",
       "    <tr>\n",
       "      <th>110810</th>\n",
       "      <td>647.50</td>\n",
       "      <td>0</td>\n",
       "      <td>61000</td>\n",
       "    </tr>\n",
       "    <tr>\n",
       "      <th>110811</th>\n",
       "      <td>654.41</td>\n",
       "      <td>0</td>\n",
       "      <td>0</td>\n",
       "    </tr>\n",
       "    <tr>\n",
       "      <th>110812</th>\n",
       "      <td>624.26</td>\n",
       "      <td>0</td>\n",
       "      <td>0</td>\n",
       "    </tr>\n",
       "  </tbody>\n",
       "</table>\n",
       "</div>"
      ],
      "text/plain": [
       "        marsupwt  tax_inc  wsal_val\n",
       "0        1132.05        0         0\n",
       "110808    730.13        0      2000\n",
       "110810    647.50        0     61000\n",
       "110811    654.41        0         0\n",
       "110812    624.26        0         0"
      ]
     },
     "execution_count": 3,
     "metadata": {},
     "output_type": "execute_result"
    }
   ],
   "source": [
    "person_df.head()"
   ]
  },
  {
   "cell_type": "code",
   "execution_count": 4,
   "metadata": {
    "collapsed": false
   },
   "outputs": [
    {
     "name": "stdout",
     "output_type": "stream",
     "text": [
      "No income: 63057\n",
      "Total: 185487\n",
      "Fraction: 0.339953743389\n"
     ]
    }
   ],
   "source": [
    "print('No income: {}'.format(len(person_df[person_df['tax_inc'] > 0])))\n",
    "print('Total: {}'.format(len(person_df)))\n",
    "print('Fraction: {}'.format(float(len(person_df[person_df['tax_inc'] > 0])) / len(person_df)))"
   ]
  },
  {
   "cell_type": "code",
   "execution_count": 5,
   "metadata": {
    "collapsed": false
   },
   "outputs": [
    {
     "data": {
      "text/plain": [
       "0.5166817057846174"
      ]
     },
     "execution_count": 5,
     "metadata": {},
     "output_type": "execute_result"
    }
   ],
   "source": [
    "person_df.loc[person_df['wsal_val'] == 0, 'marsupwt'].sum()/person_df['marsupwt'].sum()"
   ]
  },
  {
   "cell_type": "code",
   "execution_count": 6,
   "metadata": {
    "collapsed": false
   },
   "outputs": [
    {
     "data": {
      "text/html": [
       "<div>\n",
       "<table border=\"1\" class=\"dataframe\">\n",
       "  <thead>\n",
       "    <tr style=\"text-align: right;\">\n",
       "      <th></th>\n",
       "      <th>marsupwt</th>\n",
       "      <th>tax_inc</th>\n",
       "      <th>wsal_val</th>\n",
       "      <th>samp_prob</th>\n",
       "      <th>wsal_quantile</th>\n",
       "    </tr>\n",
       "  </thead>\n",
       "  <tbody>\n",
       "    <tr>\n",
       "      <th>122330</th>\n",
       "      <td>3602.74</td>\n",
       "      <td>198446</td>\n",
       "      <td>190000</td>\n",
       "      <td>0.000011</td>\n",
       "      <td>0.990009</td>\n",
       "    </tr>\n",
       "    <tr>\n",
       "      <th>37286</th>\n",
       "      <td>3507.19</td>\n",
       "      <td>179917</td>\n",
       "      <td>190000</td>\n",
       "      <td>0.000011</td>\n",
       "      <td>0.990020</td>\n",
       "    </tr>\n",
       "    <tr>\n",
       "      <th>19910</th>\n",
       "      <td>1457.42</td>\n",
       "      <td>169431</td>\n",
       "      <td>190000</td>\n",
       "      <td>0.000005</td>\n",
       "      <td>0.990025</td>\n",
       "    </tr>\n",
       "    <tr>\n",
       "      <th>183945</th>\n",
       "      <td>625.82</td>\n",
       "      <td>272201</td>\n",
       "      <td>190000</td>\n",
       "      <td>0.000002</td>\n",
       "      <td>0.990027</td>\n",
       "    </tr>\n",
       "    <tr>\n",
       "      <th>111311</th>\n",
       "      <td>854.69</td>\n",
       "      <td>169480</td>\n",
       "      <td>190000</td>\n",
       "      <td>0.000003</td>\n",
       "      <td>0.990029</td>\n",
       "    </tr>\n",
       "  </tbody>\n",
       "</table>\n",
       "</div>"
      ],
      "text/plain": [
       "        marsupwt  tax_inc  wsal_val  samp_prob  wsal_quantile\n",
       "122330   3602.74   198446    190000   0.000011       0.990009\n",
       "37286    3507.19   179917    190000   0.000011       0.990020\n",
       "19910    1457.42   169431    190000   0.000005       0.990025\n",
       "183945    625.82   272201    190000   0.000002       0.990027\n",
       "111311    854.69   169480    190000   0.000003       0.990029"
      ]
     },
     "execution_count": 6,
     "metadata": {},
     "output_type": "execute_result"
    }
   ],
   "source": [
    "quantiled = person_df.copy()\n",
    "quantiled['samp_prob'] = quantiled['marsupwt'] / quantiled['marsupwt'].sum()\n",
    "quantiled = quantiled.sort_values('wsal_val')\n",
    "quantiled['wsal_quantile'] = np.cumsum(quantiled['samp_prob'])\n",
    "quantiled[quantiled['wsal_quantile'] >= .99].head()"
   ]
  },
  {
   "cell_type": "markdown",
   "metadata": {},
   "source": [
    "So if you earn more than \\$190k, you're in the top 1%, according to this. Let's try this with the population of people who had wages more than $0:"
   ]
  },
  {
   "cell_type": "code",
   "execution_count": 7,
   "metadata": {
    "collapsed": false
   },
   "outputs": [
    {
     "name": "stderr",
     "output_type": "stream",
     "text": [
      "/home/vagrant/anaconda/lib/python2.7/site-packages/ipykernel/__main__.py:2: SettingWithCopyWarning: \n",
      "A value is trying to be set on a copy of a slice from a DataFrame.\n",
      "Try using .loc[row_indexer,col_indexer] = value instead\n",
      "\n",
      "See the caveats in the documentation: http://pandas.pydata.org/pandas-docs/stable/indexing.html#indexing-view-versus-copy\n",
      "  from ipykernel import kernelapp as app\n"
     ]
    },
    {
     "data": {
      "text/html": [
       "<div>\n",
       "<table border=\"1\" class=\"dataframe\">\n",
       "  <thead>\n",
       "    <tr style=\"text-align: right;\">\n",
       "      <th></th>\n",
       "      <th>marsupwt</th>\n",
       "      <th>tax_inc</th>\n",
       "      <th>wsal_val</th>\n",
       "      <th>samp_prob</th>\n",
       "      <th>wsal_quantile</th>\n",
       "    </tr>\n",
       "  </thead>\n",
       "  <tbody>\n",
       "    <tr>\n",
       "      <th>16058</th>\n",
       "      <td>3810.52</td>\n",
       "      <td>243737</td>\n",
       "      <td>250000</td>\n",
       "      <td>0.000025</td>\n",
       "      <td>0.990015</td>\n",
       "    </tr>\n",
       "    <tr>\n",
       "      <th>59763</th>\n",
       "      <td>1173.39</td>\n",
       "      <td>0</td>\n",
       "      <td>250000</td>\n",
       "      <td>0.000008</td>\n",
       "      <td>0.990023</td>\n",
       "    </tr>\n",
       "    <tr>\n",
       "      <th>179026</th>\n",
       "      <td>1431.85</td>\n",
       "      <td>240635</td>\n",
       "      <td>250000</td>\n",
       "      <td>0.000009</td>\n",
       "      <td>0.990032</td>\n",
       "    </tr>\n",
       "    <tr>\n",
       "      <th>81896</th>\n",
       "      <td>1730.39</td>\n",
       "      <td>220022</td>\n",
       "      <td>250000</td>\n",
       "      <td>0.000011</td>\n",
       "      <td>0.990044</td>\n",
       "    </tr>\n",
       "    <tr>\n",
       "      <th>148580</th>\n",
       "      <td>3230.13</td>\n",
       "      <td>0</td>\n",
       "      <td>250000</td>\n",
       "      <td>0.000021</td>\n",
       "      <td>0.990065</td>\n",
       "    </tr>\n",
       "  </tbody>\n",
       "</table>\n",
       "</div>"
      ],
      "text/plain": [
       "        marsupwt  tax_inc  wsal_val  samp_prob  wsal_quantile\n",
       "16058    3810.52   243737    250000   0.000025       0.990015\n",
       "59763    1173.39        0    250000   0.000008       0.990023\n",
       "179026   1431.85   240635    250000   0.000009       0.990032\n",
       "81896    1730.39   220022    250000   0.000011       0.990044\n",
       "148580   3230.13        0    250000   0.000021       0.990065"
      ]
     },
     "execution_count": 7,
     "metadata": {},
     "output_type": "execute_result"
    }
   ],
   "source": [
    "earners = person_df[person_df['wsal_val'] > 0]\n",
    "earners['samp_prob'] = earners['marsupwt'] / earners['marsupwt'].sum()\n",
    "earners = earners.sort_values('wsal_val')\n",
    "earners['wsal_quantile'] = np.cumsum(earners['samp_prob'])\n",
    "earners[earners['wsal_quantile'] >= .99].head()"
   ]
  },
  {
   "cell_type": "markdown",
   "metadata": {},
   "source": [
    "So earning \\$250k puts you in the top 1% of people who earned wages last year."
   ]
  },
  {
   "cell_type": "markdown",
   "metadata": {},
   "source": [
    "Let's try this with households, to see if we can match that Excel worksheet from the census website:"
   ]
  },
  {
   "cell_type": "code",
   "execution_count": 11,
   "metadata": {
    "collapsed": false
   },
   "outputs": [
    {
     "data": {
      "text/html": [
       "<div>\n",
       "<table border=\"1\" class=\"dataframe\">\n",
       "  <thead>\n",
       "    <tr style=\"text-align: right;\">\n",
       "      <th></th>\n",
       "      <th>hsup_wgt</th>\n",
       "      <th>htotval</th>\n",
       "      <th>samp_prob</th>\n",
       "      <th>htot_quantile</th>\n",
       "    </tr>\n",
       "  </thead>\n",
       "  <tbody>\n",
       "    <tr>\n",
       "      <th>5733</th>\n",
       "      <td>943.88</td>\n",
       "      <td>250000</td>\n",
       "      <td>0.000007</td>\n",
       "      <td>0.966734</td>\n",
       "    </tr>\n",
       "    <tr>\n",
       "      <th>46214</th>\n",
       "      <td>1915.13</td>\n",
       "      <td>250000</td>\n",
       "      <td>0.000015</td>\n",
       "      <td>0.966749</td>\n",
       "    </tr>\n",
       "    <tr>\n",
       "      <th>59628</th>\n",
       "      <td>1271.44</td>\n",
       "      <td>250000</td>\n",
       "      <td>0.000010</td>\n",
       "      <td>0.966759</td>\n",
       "    </tr>\n",
       "    <tr>\n",
       "      <th>74091</th>\n",
       "      <td>171.53</td>\n",
       "      <td>250000</td>\n",
       "      <td>0.000001</td>\n",
       "      <td>0.966760</td>\n",
       "    </tr>\n",
       "    <tr>\n",
       "      <th>86342</th>\n",
       "      <td>1497.28</td>\n",
       "      <td>250000</td>\n",
       "      <td>0.000012</td>\n",
       "      <td>0.966772</td>\n",
       "    </tr>\n",
       "    <tr>\n",
       "      <th>68576</th>\n",
       "      <td>1536.90</td>\n",
       "      <td>250000</td>\n",
       "      <td>0.000012</td>\n",
       "      <td>0.966784</td>\n",
       "    </tr>\n",
       "    <tr>\n",
       "      <th>8494</th>\n",
       "      <td>3274.97</td>\n",
       "      <td>250000</td>\n",
       "      <td>0.000026</td>\n",
       "      <td>0.966810</td>\n",
       "    </tr>\n",
       "    <tr>\n",
       "      <th>61090</th>\n",
       "      <td>895.70</td>\n",
       "      <td>250000</td>\n",
       "      <td>0.000007</td>\n",
       "      <td>0.966817</td>\n",
       "    </tr>\n",
       "    <tr>\n",
       "      <th>65472</th>\n",
       "      <td>4077.60</td>\n",
       "      <td>250000</td>\n",
       "      <td>0.000032</td>\n",
       "      <td>0.966850</td>\n",
       "    </tr>\n",
       "  </tbody>\n",
       "</table>\n",
       "</div>"
      ],
      "text/plain": [
       "       hsup_wgt  htotval  samp_prob  htot_quantile\n",
       "5733     943.88   250000   0.000007       0.966734\n",
       "46214   1915.13   250000   0.000015       0.966749\n",
       "59628   1271.44   250000   0.000010       0.966759\n",
       "74091    171.53   250000   0.000001       0.966760\n",
       "86342   1497.28   250000   0.000012       0.966772\n",
       "68576   1536.90   250000   0.000012       0.966784\n",
       "8494    3274.97   250000   0.000026       0.966810\n",
       "61090    895.70   250000   0.000007       0.966817\n",
       "65472   4077.60   250000   0.000032       0.966850"
      ]
     },
     "execution_count": 11,
     "metadata": {},
     "output_type": "execute_result"
    }
   ],
   "source": [
    "records = read_asec_data('data/asec2016_pubuse_v2.dat', 'data/asec2016_dd.txt', 'household', ['HSUP_WGT', 'HTOTVAL'])\n",
    "hh_df = pd.DataFrame(records)\n",
    "hh_df.columns = [x.lower() for x in hh_df.columns]\n",
    "hh_df['hsup_wgt'] = hh_df['hsup_wgt'].astype(float) / 100\n",
    "hh_df['htotval'] = hh_df['htotval'].astype(int)\n",
    "hh_df['samp_prob'] = hh_df['hsup_wgt']/hh_df['hsup_wgt'].sum()\n",
    "hh_df = hh_df.sort_values('htotval')\n",
    "hh_df['htot_quantile'] = np.cumsum(hh_df['samp_prob'])\n",
    "hh_df[abs(hh_df['htotval'] - 250000) == min(abs(hh_df['htotval']-250000))]"
   ]
  },
  {
   "cell_type": "markdown",
   "metadata": {},
   "source": [
    "This is exactly what the Excel spreadsheet gives, to within .0005%! WE DID IT!!!!!!!"
   ]
  },
  {
   "cell_type": "code",
   "execution_count": null,
   "metadata": {
    "collapsed": true
   },
   "outputs": [],
   "source": []
  }
 ],
 "metadata": {
  "kernelspec": {
   "display_name": "Python [Root]",
   "language": "python",
   "name": "Python [Root]"
  },
  "language_info": {
   "codemirror_mode": {
    "name": "ipython",
    "version": 2
   },
   "file_extension": ".py",
   "mimetype": "text/x-python",
   "name": "python",
   "nbconvert_exporter": "python",
   "pygments_lexer": "ipython2",
   "version": "2.7.12"
  }
 },
 "nbformat": 4,
 "nbformat_minor": 0
}
