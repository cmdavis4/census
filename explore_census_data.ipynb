{
 "cells": [
  {
   "cell_type": "code",
   "execution_count": 2,
   "metadata": {
    "collapsed": false
   },
   "outputs": [],
   "source": [
    "import pandas as pd\n",
    "import numpy as np\n",
    "import datetime as dt\n",
    "import matplotlib.pyplot as plt\n",
    "%matplotlib inline\n",
    "\n",
    "from ingestion import read_asec_data, read_asec_dictionary"
   ]
  },
  {
   "cell_type": "code",
   "execution_count": 5,
   "metadata": {
    "collapsed": false
   },
   "outputs": [],
   "source": [
    "# I am not at all sure if it's more appropriate to do this at a personal level or household level;\n",
    "# I am guessing personal, since that is how federal income tax is administered, so we're going with\n",
    "# that for now.\n",
    "\n",
    "# We are also using the taxable income amount for the time being, again I don't know if this is necessarily\n",
    "# the right approach, but it seems plausible as a first pass.\n",
    "\n",
    "# TODO: Read up more on the various income metrics\n",
    "\n",
    "records = read_asec_data('data/asec2016_pubuse_v2.dat', 'data/asec2016_dd.txt', 'person', ['MARSUPWT', 'TAX_INC'])\n",
    "df = pd.DataFrame(records)\n",
    "df.columns = [x.lower() for x in df.columns]\n",
    "df['marsupwt'] = df['marsupwt'].astype(float) / 100\n",
    "df['tax_inc'] = df['tax_inc'].astype(int)\n",
    "df = df.sort_values('tax_inc')"
   ]
  },
  {
   "cell_type": "code",
   "execution_count": null,
   "metadata": {
    "collapsed": true
   },
   "outputs": [],
   "source": [
    "positives = hh_df[hh_df['tax_inc'] > 0]\n",
    "positives_x = np.cumsum(positives['marsupwt']) / sum(positives['marsupwt'])\n",
    "plt.plot(positives_x, positives['tax_inc'])"
   ]
  },
  {
   "cell_type": "code",
   "execution_count": 3,
   "metadata": {
    "collapsed": false
   },
   "outputs": [
    {
     "data": {
      "text/plain": [
       "[<matplotlib.lines.Line2D at 0x7f2c8f54e3d0>]"
      ]
     },
     "execution_count": 3,
     "metadata": {},
     "output_type": "execute_result"
    },
    {
     "data": {
      "image/png": "[encoded data removed]",
      "text/plain": [
       "<matplotlib.figure.Figure at 0x7f2c8f5a3c90>"
      ]
     },
     "metadata": {},
     "output_type": "display_data"
    }
   ],
   "source": [
    "# We use MARSUPWT here; the earnings weight is specifically for calculating population estimates using the\n",
    "# normal CPS fields, and we are using exclusively ASEC fields (if I understand this correctly)\n",
    "\n",
    "records = read_asec_data('asec2016_pubuse_v2.dat', 'asec2016_dd.txt', 'person', ['MARSUPWT', 'TAX_INC'])\n",
    "p_df = pd.DataFrame(records)\n",
    "p_df.columns = [x.lower() for x in p_df.columns]\n",
    "p_df['marsupwt'] = p_df['marsupwt'].astype(float) / 100\n",
    "p_df['tax_inc'] = p_df['tax_inc'].astype(int)\n",
    "p_df = p_df.sort_values('tax_inc')\n",
    "positives = p_df[p_df['tax_inc'] > 0]\n",
    "positives_x = np.cumsum(positives['marsupwt']) / sum(positives['marsupwt'])\n",
    "plt.plot(positives_x, positives['tax_inc'])"
   ]
  },
  {
   "cell_type": "code",
   "execution_count": null,
   "metadata": {
    "collapsed": true
   },
   "outputs": [],
   "source": []
  }
 ],
 "metadata": {
  "kernelspec": {
   "display_name": "Python [Root]",
   "language": "python",
   "name": "Python [Root]"
  },
  "language_info": {
   "codemirror_mode": {
    "name": "ipython",
    "version": 2
   },
   "file_extension": ".py",
   "mimetype": "text/x-python",
   "name": "python",
   "nbconvert_exporter": "python",
   "pygments_lexer": "ipython2",
   "version": "2.7.12"
  }
 },
 "nbformat": 4,
 "nbformat_minor": 0
}
