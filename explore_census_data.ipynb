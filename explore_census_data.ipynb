{
 "cells": [
  {
   "cell_type": "code",
   "execution_count": 1,
   "metadata": {
    "collapsed": false
   },
   "outputs": [],
   "source": [
    "import pandas as pd\n",
    "import numpy as np\n",
    "import datetime as dt\n",
    "import matplotlib\n",
    "import matplotlib.pyplot as plt\n",
    "import locale\n",
    "locale.setlocale(locale.LC_ALL, '' )\n",
    "%matplotlib inline\n",
    "\n",
    "from ingestion import read_asec_data, read_asec_dictionary\n",
    "from analysis import add_quantiles"
   ]
  },
  {
   "cell_type": "markdown",
   "metadata": {},
   "source": [
    "Number of records:\n",
    "* Household: 94,097\n",
    "* Family: 80,610\n",
    "* Person: 185,487"
   ]
  },
  {
   "cell_type": "code",
   "execution_count": 2,
   "metadata": {
    "collapsed": false
   },
   "outputs": [],
   "source": [
    "# I am not at all sure if it's more appropriate to do this at a personal level or household level;\n",
    "# I am guessing personal, since that is how federal income tax is administered, so we're going with\n",
    "# that for now.\n",
    "\n",
    "# We are also using the taxable income amount for the time being, again I don't know if this is necessarily\n",
    "# the right approach, but it seems plausible as a first pass.\n",
    "\n",
    "# TODO: Read up more on the various income metrics\n",
    "\n",
    "person_df = read_asec_data('data/asec2016_pubuse_v3.dat', 'data/asec2016_dd.txt', 'person',\n",
    "                         ['MARSUPWT', 'TAX_INC', 'WSAL_VAL', 'FEDTAX_BC', 'FEDTAX_AC'], as_df=True)"
   ]
  },
  {
   "cell_type": "code",
   "execution_count": 3,
   "metadata": {
    "collapsed": false
   },
   "outputs": [
    {
     "data": {
      "text/html": [
       "<div>\n",
       "<table border=\"1\" class=\"dataframe\">\n",
       "  <thead>\n",
       "    <tr style=\"text-align: right;\">\n",
       "      <th></th>\n",
       "      <th>fedtax_ac</th>\n",
       "      <th>fedtax_bc</th>\n",
       "      <th>marsupwt</th>\n",
       "      <th>tax_inc</th>\n",
       "      <th>wsal_val</th>\n",
       "    </tr>\n",
       "  </thead>\n",
       "  <tbody>\n",
       "    <tr>\n",
       "      <th>0</th>\n",
       "      <td>0</td>\n",
       "      <td>0</td>\n",
       "      <td>1132.05</td>\n",
       "      <td>0</td>\n",
       "      <td>0</td>\n",
       "    </tr>\n",
       "    <tr>\n",
       "      <th>1</th>\n",
       "      <td>0</td>\n",
       "      <td>0</td>\n",
       "      <td>1077.54</td>\n",
       "      <td>0</td>\n",
       "      <td>0</td>\n",
       "    </tr>\n",
       "    <tr>\n",
       "      <th>2</th>\n",
       "      <td>0</td>\n",
       "      <td>0</td>\n",
       "      <td>1077.54</td>\n",
       "      <td>0</td>\n",
       "      <td>0</td>\n",
       "    </tr>\n",
       "    <tr>\n",
       "      <th>3</th>\n",
       "      <td>10</td>\n",
       "      <td>10</td>\n",
       "      <td>1151.49</td>\n",
       "      <td>101</td>\n",
       "      <td>0</td>\n",
       "    </tr>\n",
       "    <tr>\n",
       "      <th>4</th>\n",
       "      <td>-2490</td>\n",
       "      <td>0</td>\n",
       "      <td>705.00</td>\n",
       "      <td>0</td>\n",
       "      <td>6000</td>\n",
       "    </tr>\n",
       "  </tbody>\n",
       "</table>\n",
       "</div>"
      ],
      "text/plain": [
       "   fedtax_ac  fedtax_bc  marsupwt  tax_inc  wsal_val\n",
       "0          0          0   1132.05        0         0\n",
       "1          0          0   1077.54        0         0\n",
       "2          0          0   1077.54        0         0\n",
       "3         10         10   1151.49      101         0\n",
       "4      -2490          0    705.00        0      6000"
      ]
     },
     "execution_count": 3,
     "metadata": {},
     "output_type": "execute_result"
    }
   ],
   "source": [
    "person_df.head()"
   ]
  },
  {
   "cell_type": "code",
   "execution_count": 4,
   "metadata": {
    "collapsed": false
   },
   "outputs": [
    {
     "name": "stdout",
     "output_type": "stream",
     "text": [
      "No income: 63058\n",
      "Total: 185487\n",
      "Fraction: 0.339959134602\n"
     ]
    }
   ],
   "source": [
    "print('No income: {}'.format(len(person_df[person_df['tax_inc'] > 0])))\n",
    "print('Total: {}'.format(len(person_df)))\n",
    "print('Fraction: {}'.format(float(len(person_df[person_df['tax_inc'] > 0])) / len(person_df)))"
   ]
  },
  {
   "cell_type": "code",
   "execution_count": 5,
   "metadata": {
    "collapsed": false
   },
   "outputs": [
    {
     "data": {
      "text/plain": [
       "0.5166817057846115"
      ]
     },
     "execution_count": 5,
     "metadata": {},
     "output_type": "execute_result"
    }
   ],
   "source": [
    "person_df.loc[person_df['wsal_val'] == 0, 'marsupwt'].sum()/person_df['marsupwt'].sum()"
   ]
  },
  {
   "cell_type": "code",
   "execution_count": 6,
   "metadata": {
    "collapsed": false
   },
   "outputs": [
    {
     "data": {
      "text/html": [
       "<div>\n",
       "<table border=\"1\" class=\"dataframe\">\n",
       "  <thead>\n",
       "    <tr style=\"text-align: right;\">\n",
       "      <th></th>\n",
       "      <th>fedtax_ac</th>\n",
       "      <th>fedtax_bc</th>\n",
       "      <th>marsupwt</th>\n",
       "      <th>tax_inc</th>\n",
       "      <th>wsal_val</th>\n",
       "      <th>wsal_val_quantile</th>\n",
       "    </tr>\n",
       "  </thead>\n",
       "  <tbody>\n",
       "    <tr>\n",
       "      <th>18571</th>\n",
       "      <td>102117</td>\n",
       "      <td>102117</td>\n",
       "      <td>3574.08</td>\n",
       "      <td>430831</td>\n",
       "      <td>190000</td>\n",
       "      <td>0.990011</td>\n",
       "    </tr>\n",
       "    <tr>\n",
       "      <th>38355</th>\n",
       "      <td>64462</td>\n",
       "      <td>64462</td>\n",
       "      <td>3267.85</td>\n",
       "      <td>283131</td>\n",
       "      <td>190000</td>\n",
       "      <td>0.990021</td>\n",
       "    </tr>\n",
       "    <tr>\n",
       "      <th>152268</th>\n",
       "      <td>55314</td>\n",
       "      <td>55314</td>\n",
       "      <td>1567.19</td>\n",
       "      <td>244501</td>\n",
       "      <td>190000</td>\n",
       "      <td>0.990026</td>\n",
       "    </tr>\n",
       "    <tr>\n",
       "      <th>19910</th>\n",
       "      <td>34492</td>\n",
       "      <td>34492</td>\n",
       "      <td>1457.42</td>\n",
       "      <td>169431</td>\n",
       "      <td>190000</td>\n",
       "      <td>0.990030</td>\n",
       "    </tr>\n",
       "    <tr>\n",
       "      <th>39017</th>\n",
       "      <td>41704</td>\n",
       "      <td>41704</td>\n",
       "      <td>4573.23</td>\n",
       "      <td>173690</td>\n",
       "      <td>190000</td>\n",
       "      <td>0.990045</td>\n",
       "    </tr>\n",
       "  </tbody>\n",
       "</table>\n",
       "</div>"
      ],
      "text/plain": [
       "        fedtax_ac  fedtax_bc  marsupwt  tax_inc  wsal_val  wsal_val_quantile\n",
       "18571      102117     102117   3574.08   430831    190000           0.990011\n",
       "38355       64462      64462   3267.85   283131    190000           0.990021\n",
       "152268      55314      55314   1567.19   244501    190000           0.990026\n",
       "19910       34492      34492   1457.42   169431    190000           0.990030\n",
       "39017       41704      41704   4573.23   173690    190000           0.990045"
      ]
     },
     "execution_count": 6,
     "metadata": {},
     "output_type": "execute_result"
    }
   ],
   "source": [
    "person_df = add_quantiles(person_df, 'wsal_val')\n",
    "# quantiled['samp_prob'] = quantiled['marsupwt'] / quantiled['marsupwt'].sum()\n",
    "# quantiled = quantiled.sort_values('wsal_val')\n",
    "# quantiled['wsal_quantile'] = np.cumsum(quantiled['samp_prob'])\n",
    "person_df[person_df['wsal_val_quantile'] >= .99].head()"
   ]
  },
  {
   "cell_type": "markdown",
   "metadata": {},
   "source": [
    "So if you earn more than \\$190k, you're in the top 1%, according to this. Let's try this with the population of people who had wages more than $0:"
   ]
  },
  {
   "cell_type": "code",
   "execution_count": 7,
   "metadata": {
    "collapsed": false
   },
   "outputs": [
    {
     "data": {
      "text/html": [
       "<div>\n",
       "<table border=\"1\" class=\"dataframe\">\n",
       "  <thead>\n",
       "    <tr style=\"text-align: right;\">\n",
       "      <th></th>\n",
       "      <th>fedtax_ac</th>\n",
       "      <th>fedtax_bc</th>\n",
       "      <th>marsupwt</th>\n",
       "      <th>tax_inc</th>\n",
       "      <th>wsal_val</th>\n",
       "      <th>wsal_val_quantile</th>\n",
       "    </tr>\n",
       "  </thead>\n",
       "  <tbody>\n",
       "    <tr>\n",
       "      <th>158002</th>\n",
       "      <td>0</td>\n",
       "      <td>0</td>\n",
       "      <td>2206.06</td>\n",
       "      <td>0</td>\n",
       "      <td>250000</td>\n",
       "      <td>0.990004</td>\n",
       "    </tr>\n",
       "    <tr>\n",
       "      <th>39914</th>\n",
       "      <td>41244</td>\n",
       "      <td>41244</td>\n",
       "      <td>1935.37</td>\n",
       "      <td>185494</td>\n",
       "      <td>250000</td>\n",
       "      <td>0.990016</td>\n",
       "    </tr>\n",
       "    <tr>\n",
       "      <th>159107</th>\n",
       "      <td>80456</td>\n",
       "      <td>80456</td>\n",
       "      <td>1890.08</td>\n",
       "      <td>317960</td>\n",
       "      <td>250000</td>\n",
       "      <td>0.990028</td>\n",
       "    </tr>\n",
       "    <tr>\n",
       "      <th>72734</th>\n",
       "      <td>0</td>\n",
       "      <td>0</td>\n",
       "      <td>2469.20</td>\n",
       "      <td>0</td>\n",
       "      <td>250000</td>\n",
       "      <td>0.990045</td>\n",
       "    </tr>\n",
       "    <tr>\n",
       "      <th>23042</th>\n",
       "      <td>0</td>\n",
       "      <td>0</td>\n",
       "      <td>1649.35</td>\n",
       "      <td>0</td>\n",
       "      <td>250000</td>\n",
       "      <td>0.990055</td>\n",
       "    </tr>\n",
       "  </tbody>\n",
       "</table>\n",
       "</div>"
      ],
      "text/plain": [
       "        fedtax_ac  fedtax_bc  marsupwt  tax_inc  wsal_val  wsal_val_quantile\n",
       "158002          0          0   2206.06        0    250000           0.990004\n",
       "39914       41244      41244   1935.37   185494    250000           0.990016\n",
       "159107      80456      80456   1890.08   317960    250000           0.990028\n",
       "72734           0          0   2469.20        0    250000           0.990045\n",
       "23042           0          0   1649.35        0    250000           0.990055"
      ]
     },
     "execution_count": 7,
     "metadata": {},
     "output_type": "execute_result"
    }
   ],
   "source": [
    "earners = person_df[person_df['wsal_val'] > 0]\n",
    "earners = add_quantiles(earners, 'wsal_val')\n",
    "earners[earners['wsal_val_quantile'] >= .99].head()"
   ]
  },
  {
   "cell_type": "markdown",
   "metadata": {},
   "source": [
    "So earning \\$250k puts you in the top 1% of people who earned wages last year."
   ]
  },
  {
   "cell_type": "markdown",
   "metadata": {},
   "source": [
    "Let's try this with households, to see if we can match that Excel worksheet from the census website:"
   ]
  },
  {
   "cell_type": "code",
   "execution_count": 8,
   "metadata": {
    "collapsed": false
   },
   "outputs": [
    {
     "data": {
      "text/html": [
       "<div>\n",
       "<table border=\"1\" class=\"dataframe\">\n",
       "  <thead>\n",
       "    <tr style=\"text-align: right;\">\n",
       "      <th></th>\n",
       "      <th>hsup_wgt</th>\n",
       "      <th>htotval</th>\n",
       "      <th>htotval_quantile</th>\n",
       "    </tr>\n",
       "  </thead>\n",
       "  <tbody>\n",
       "    <tr>\n",
       "      <th>5733</th>\n",
       "      <td>943.88</td>\n",
       "      <td>250000</td>\n",
       "      <td>0.966734</td>\n",
       "    </tr>\n",
       "    <tr>\n",
       "      <th>46214</th>\n",
       "      <td>1915.13</td>\n",
       "      <td>250000</td>\n",
       "      <td>0.966749</td>\n",
       "    </tr>\n",
       "    <tr>\n",
       "      <th>59628</th>\n",
       "      <td>1271.44</td>\n",
       "      <td>250000</td>\n",
       "      <td>0.966759</td>\n",
       "    </tr>\n",
       "    <tr>\n",
       "      <th>74091</th>\n",
       "      <td>171.53</td>\n",
       "      <td>250000</td>\n",
       "      <td>0.966760</td>\n",
       "    </tr>\n",
       "    <tr>\n",
       "      <th>86342</th>\n",
       "      <td>1497.28</td>\n",
       "      <td>250000</td>\n",
       "      <td>0.966772</td>\n",
       "    </tr>\n",
       "    <tr>\n",
       "      <th>68576</th>\n",
       "      <td>1536.90</td>\n",
       "      <td>250000</td>\n",
       "      <td>0.966784</td>\n",
       "    </tr>\n",
       "    <tr>\n",
       "      <th>8494</th>\n",
       "      <td>3274.97</td>\n",
       "      <td>250000</td>\n",
       "      <td>0.966810</td>\n",
       "    </tr>\n",
       "    <tr>\n",
       "      <th>61090</th>\n",
       "      <td>895.70</td>\n",
       "      <td>250000</td>\n",
       "      <td>0.966817</td>\n",
       "    </tr>\n",
       "    <tr>\n",
       "      <th>65472</th>\n",
       "      <td>4077.60</td>\n",
       "      <td>250000</td>\n",
       "      <td>0.966850</td>\n",
       "    </tr>\n",
       "  </tbody>\n",
       "</table>\n",
       "</div>"
      ],
      "text/plain": [
       "       hsup_wgt  htotval  htotval_quantile\n",
       "5733     943.88   250000          0.966734\n",
       "46214   1915.13   250000          0.966749\n",
       "59628   1271.44   250000          0.966759\n",
       "74091    171.53   250000          0.966760\n",
       "86342   1497.28   250000          0.966772\n",
       "68576   1536.90   250000          0.966784\n",
       "8494    3274.97   250000          0.966810\n",
       "61090    895.70   250000          0.966817\n",
       "65472   4077.60   250000          0.966850"
      ]
     },
     "execution_count": 8,
     "metadata": {},
     "output_type": "execute_result"
    }
   ],
   "source": [
    "hh_df = read_asec_data('data/asec2016_pubuse_v3.dat', 'data/asec2016_dd.txt', 'household',\n",
    "                         ['HSUP_WGT', 'HTOTVAL'], as_df=True)\n",
    "hh_df = add_quantiles(hh_df, 'htotval', weight='hsup_wgt')\n",
    "hh_df[abs(hh_df['htotval'] - 250000) == min(abs(hh_df['htotval']-250000))]"
   ]
  },
  {
   "cell_type": "markdown",
   "metadata": {},
   "source": [
    "This is exactly what the Excel spreadsheet gives, to within .0005%."
   ]
  },
  {
   "cell_type": "markdown",
   "metadata": {},
   "source": [
    "So now let's plot the distribution of personal income in the US, both for people who earned wages and people who did not. We'll just start from scratch:"
   ]
  },
  {
   "cell_type": "code",
   "execution_count": 9,
   "metadata": {
    "collapsed": false
   },
   "outputs": [
    {
     "data": {
      "image/png": "[encoded data removed]",
      "text/plain": [
       "<matplotlib.figure.Figure at 0x7f0680ceb6d0>"
      ]
     },
     "metadata": {},
     "output_type": "display_data"
    }
   ],
   "source": [
    "metric = 'tax_inc'\n",
    "full_population = add_quantiles(person_df, metric)\n",
    "person_df = add_quantiles(person_df, metric)\n",
    "earners_only = add_quantiles(person_df[person_df[metric] > 0], metric)\n",
    "fig = plt.figure()\n",
    "ax = fig.add_subplot(111)\n",
    "ax.semilogy(full_population['{}_quantile'.format(metric)], full_population[metric], label='Full population')\n",
    "ax.semilogy(earners_only['{}_quantile'.format(metric)], earners_only[metric], label='Non-zero taxable income')\n",
    "ax.get_yaxis().set_major_formatter(\n",
    "    matplotlib.ticker.FuncFormatter(lambda x, p: format(int(x), ',')))\n",
    "ax.grid(True)\n",
    "ax.set_ylabel('Total taxable income')\n",
    "ax.set_xlabel('Percentile')\n",
    "ax.set_title('Taxable income distribution of the United States')\n",
    "ax.legend()\n",
    "fig.tight_layout()"
   ]
  },
  {
   "cell_type": "markdown",
   "metadata": {
    "collapsed": true
   },
   "source": [
    "Let's try the PDF of these:"
   ]
  },
  {
   "cell_type": "code",
   "execution_count": 10,
   "metadata": {
    "collapsed": false
   },
   "outputs": [
    {
     "data": {
      "image/png": "[encoded data removed]",
      "text/plain": [
       "<matplotlib.figure.Figure at 0x7f0697752a50>"
      ]
     },
     "metadata": {},
     "output_type": "display_data"
    }
   ],
   "source": [
    "fig = plt.figure()\n",
    "ax = fig.add_subplot(111)\n",
    "ax.hist([full_population[metric], earners_only[metric]], np.logspace(0, 8, num=50), normed=1,\n",
    "        histtype='bar', label=['Full population', 'Non-zero taxable income'])\n",
    "ax.grid(True)\n",
    "ax.set_xscale('log')\n",
    "ax.set_xlabel('Total taxable income')\n",
    "ax.set_title('Taxable income distribution of the United States')\n",
    "ax.legend()\n",
    "fig.tight_layout()"
   ]
  },
  {
   "cell_type": "markdown",
   "metadata": {},
   "source": [
    "The logspace makes the distributions the same, since you can't show zero, so let's just try a linear scale:"
   ]
  },
  {
   "cell_type": "code",
   "execution_count": 11,
   "metadata": {
    "collapsed": false
   },
   "outputs": [
    {
     "data": {
      "image/png": "[encoded data removed]",
      "text/plain": [
       "<matplotlib.figure.Figure at 0x7f06772349d0>"
      ]
     },
     "metadata": {},
     "output_type": "display_data"
    }
   ],
   "source": [
    "fig = plt.figure()\n",
    "ax = fig.add_subplot(111)\n",
    "ax.hist([full_population[metric], earners_only[metric]], bins=50, normed=1,\n",
    "        histtype='bar', label=['Full population', 'Non-zero taxable income'])\n",
    "ax.grid(True)\n",
    "ax.set_xlabel('Total taxable income')\n",
    "ax.set_title('Taxable income distribution of the United States')\n",
    "ax.legend()\n",
    "fig.tight_layout()"
   ]
  },
  {
   "cell_type": "markdown",
   "metadata": {},
   "source": [
    "Let's try looking at tax liability, since that's ultimately what we care about:"
   ]
  },
  {
   "cell_type": "code",
   "execution_count": 12,
   "metadata": {
    "collapsed": false
   },
   "outputs": [],
   "source": [
    "metrics = ['fedtax_bc', 'fedtax_ac']\n",
    "person_df = add_quantiles(person_df, metrics)\n",
    "earners_only = add_quantiles(earners_only, metrics)"
   ]
  },
  {
   "cell_type": "code",
   "execution_count": 13,
   "metadata": {
    "collapsed": false
   },
   "outputs": [
    {
     "data": {
      "text/plain": [
       "<matplotlib.text.Text at 0x7f0676ccd390>"
      ]
     },
     "execution_count": 13,
     "metadata": {},
     "output_type": "execute_result"
    },
    {
     "data": {
      "image/png": "[encoded data removed]",
      "text/plain": [
       "<matplotlib.figure.Figure at 0x7f0676d521d0>"
      ]
     },
     "metadata": {},
     "output_type": "display_data"
    }
   ],
   "source": [
    "fig = plt.figure()\n",
    "ax = fig.add_subplot(111)\n",
    "for metric in metrics:\n",
    "    earners_only = earners_only.sort_values('{}_quantile'.format(metric))\n",
    "    ax.semilogy(earners_only['{}_quantile'.format(metric)], earners_only[metric], label=metric)\n",
    "ax.get_yaxis().set_major_formatter(\n",
    "    matplotlib.ticker.FuncFormatter(lambda x, p: '${:,.0f}'.format(x)))\n",
    "ax.get_xaxis().set_major_formatter(\n",
    "    matplotlib.ticker.FuncFormatter(lambda x, p: '{:3.0f}%'.format(x*100)))\n",
    "ax.grid(True)\n",
    "ax.legend()\n",
    "ax.set_title('Federal Tax Liability')\n",
    "ax.set_xlabel('Percentile')\n",
    "ax.set_ylabel('Federal tax liability')"
   ]
  },
  {
   "cell_type": "code",
   "execution_count": 14,
   "metadata": {
    "collapsed": false
   },
   "outputs": [
    {
     "data": {
      "text/plain": [
       "0.073911713763230719"
      ]
     },
     "execution_count": 14,
     "metadata": {},
     "output_type": "execute_result"
    }
   ],
   "source": [
    "min(earners_only.loc[earners_only[metric]>0, '{}_quantile'.format(metric)])"
   ]
  },
  {
   "cell_type": "code",
   "execution_count": 15,
   "metadata": {
    "collapsed": false
   },
   "outputs": [
    {
     "data": {
      "text/html": [
       "<div>\n",
       "<table border=\"1\" class=\"dataframe\">\n",
       "  <thead>\n",
       "    <tr style=\"text-align: right;\">\n",
       "      <th></th>\n",
       "      <th>fedtax_ac</th>\n",
       "      <th>fedtax_bc</th>\n",
       "      <th>marsupwt</th>\n",
       "      <th>tax_inc</th>\n",
       "      <th>wsal_val</th>\n",
       "      <th>wsal_val_quantile</th>\n",
       "      <th>tax_inc_quantile</th>\n",
       "      <th>fedtax_bc_quantile</th>\n",
       "      <th>fedtax_ac_quantile</th>\n",
       "    </tr>\n",
       "  </thead>\n",
       "  <tbody>\n",
       "    <tr>\n",
       "      <th>105909</th>\n",
       "      <td>1</td>\n",
       "      <td>1</td>\n",
       "      <td>863.41</td>\n",
       "      <td>14</td>\n",
       "      <td>0</td>\n",
       "      <td>0.003306</td>\n",
       "      <td>0.000067</td>\n",
       "      <td>0.051295</td>\n",
       "      <td>0.073912</td>\n",
       "    </tr>\n",
       "    <tr>\n",
       "      <th>95864</th>\n",
       "      <td>1</td>\n",
       "      <td>1</td>\n",
       "      <td>3474.86</td>\n",
       "      <td>10</td>\n",
       "      <td>10300</td>\n",
       "      <td>0.588415</td>\n",
       "      <td>0.000047</td>\n",
       "      <td>0.051287</td>\n",
       "      <td>0.073942</td>\n",
       "    </tr>\n",
       "    <tr>\n",
       "      <th>174222</th>\n",
       "      <td>1</td>\n",
       "      <td>1</td>\n",
       "      <td>1424.41</td>\n",
       "      <td>11</td>\n",
       "      <td>0</td>\n",
       "      <td>0.255630</td>\n",
       "      <td>0.000059</td>\n",
       "      <td>0.051258</td>\n",
       "      <td>0.073954</td>\n",
       "    </tr>\n",
       "    <tr>\n",
       "      <th>10875</th>\n",
       "      <td>1</td>\n",
       "      <td>1</td>\n",
       "      <td>1830.33</td>\n",
       "      <td>14</td>\n",
       "      <td>4000</td>\n",
       "      <td>0.546955</td>\n",
       "      <td>0.000082</td>\n",
       "      <td>0.051311</td>\n",
       "      <td>0.073970</td>\n",
       "    </tr>\n",
       "    <tr>\n",
       "      <th>77232</th>\n",
       "      <td>2</td>\n",
       "      <td>2</td>\n",
       "      <td>555.24</td>\n",
       "      <td>518</td>\n",
       "      <td>20000</td>\n",
       "      <td>0.646304</td>\n",
       "      <td>0.007515</td>\n",
       "      <td>0.051376</td>\n",
       "      <td>0.074124</td>\n",
       "    </tr>\n",
       "  </tbody>\n",
       "</table>\n",
       "</div>"
      ],
      "text/plain": [
       "        fedtax_ac  fedtax_bc  marsupwt  tax_inc  wsal_val  wsal_val_quantile  \\\n",
       "105909          1          1    863.41       14         0           0.003306   \n",
       "95864           1          1   3474.86       10     10300           0.588415   \n",
       "174222          1          1   1424.41       11         0           0.255630   \n",
       "10875           1          1   1830.33       14      4000           0.546955   \n",
       "77232           2          2    555.24      518     20000           0.646304   \n",
       "\n",
       "        tax_inc_quantile  fedtax_bc_quantile  fedtax_ac_quantile  \n",
       "105909          0.000067            0.051295            0.073912  \n",
       "95864           0.000047            0.051287            0.073942  \n",
       "174222          0.000059            0.051258            0.073954  \n",
       "10875           0.000082            0.051311            0.073970  \n",
       "77232           0.007515            0.051376            0.074124  "
      ]
     },
     "execution_count": 15,
     "metadata": {},
     "output_type": "execute_result"
    }
   ],
   "source": [
    "earners_only.loc[earners_only[metric]>0].sort_values(metric).head()"
   ]
  },
  {
   "cell_type": "code",
   "execution_count": null,
   "metadata": {
    "collapsed": true
   },
   "outputs": [],
   "source": []
  }
 ],
 "metadata": {
  "kernelspec": {
   "display_name": "Python [Root]",
   "language": "python",
   "name": "Python [Root]"
  },
  "language_info": {
   "codemirror_mode": {
    "name": "ipython",
    "version": 2
   },
   "file_extension": ".py",
   "mimetype": "text/x-python",
   "name": "python",
   "nbconvert_exporter": "python",
   "pygments_lexer": "ipython2",
   "version": "2.7.12"
  }
 },
 "nbformat": 4,
 "nbformat_minor": 0
}
